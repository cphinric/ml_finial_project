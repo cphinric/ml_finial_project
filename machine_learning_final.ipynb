{
 "cells": [
  {
   "cell_type": "markdown",
   "metadata": {
    "id": "qDay-2uAuZgV"
   },
   "source": [
    "# Group 5 Final Presentation:\n",
    "\n",
    "## _Spam E-Mail Detection and Prevention_\n",
    "\n",
    "> Outline:\n",
    "> 1. ...\n",
    "> 2.\n",
    "\n",
    "By: Andres Balderrama, Hunter Fountain, Juan Miranda, Parker Hinrichs"
   ]
  },
  {
   "cell_type": "markdown",
   "metadata": {},
   "source": [
    "# Section 0\n",
    "\n",
    "## Importing/Declaring Libraries and Dataset\n",
    "\n",
    "Some description..."
   ]
  },
  {
   "cell_type": "code",
   "execution_count": 1,
   "metadata": {},
   "outputs": [],
   "source": [
    "# Declaring Libraries"
   ]
  },
  {
   "cell_type": "code",
   "execution_count": 2,
   "metadata": {},
   "outputs": [],
   "source": [
    "# Loading Dataset"
   ]
  },
  {
   "cell_type": "markdown",
   "metadata": {},
   "source": [
    "# Section 1\n",
    "\n",
    "## \"Architecting\" Two Different Models\n",
    "\n",
    "Some description..."
   ]
  },
  {
   "cell_type": "markdown",
   "metadata": {},
   "source": [
    "## Section 1.1\n",
    "\n",
    "### Naive Bayes \"Architecture\"\n",
    "\n",
    "Some description..."
   ]
  },
  {
   "cell_type": "code",
   "execution_count": 4,
   "metadata": {},
   "outputs": [],
   "source": [
    "# Some code implementation..."
   ]
  },
  {
   "cell_type": "markdown",
   "metadata": {},
   "source": [
    "## Section 1.2\n",
    "\n",
    "### Linear Regession \"Architecture\"\n",
    "\n",
    "Some description..."
   ]
  },
  {
   "cell_type": "code",
   "execution_count": 5,
   "metadata": {},
   "outputs": [],
   "source": [
    "# Some code implementation..."
   ]
  },
  {
   "cell_type": "markdown",
   "metadata": {},
   "source": [
    "# Section 2\n",
    "\n",
    "## Comparision of Results (w/ Charts)\n",
    "\n",
    "Some description..."
   ]
  },
  {
   "cell_type": "code",
   "execution_count": 8,
   "metadata": {},
   "outputs": [],
   "source": [
    "# Some code implementation for Naive Bayes..."
   ]
  },
  {
   "cell_type": "code",
   "execution_count": 10,
   "metadata": {},
   "outputs": [],
   "source": [
    "# Some code implementation for Linear Regession..."
   ]
  },
  {
   "cell_type": "markdown",
   "metadata": {},
   "source": [
    "# Section 3\n",
    "\n",
    "## Conclusions on Entire Project\n",
    "\n",
    "Some description... (2-3 paragraphs)"
   ]
  }
 ],
 "metadata": {
  "colab": {
   "provenance": []
  },
  "kernelspec": {
   "display_name": "Python 3 (ipykernel)",
   "language": "python",
   "name": "python3"
  },
  "language_info": {
   "codemirror_mode": {
    "name": "ipython",
    "version": 3
   },
   "file_extension": ".py",
   "mimetype": "text/x-python",
   "name": "python",
   "nbconvert_exporter": "python",
   "pygments_lexer": "ipython3",
   "version": "3.11.2"
  }
 },
 "nbformat": 4,
 "nbformat_minor": 1
}
