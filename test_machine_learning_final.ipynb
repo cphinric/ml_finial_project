from sklearn.model_selection import cross_val_score
from sklearn.naive_bayes import MultinomialNB

# Assuming you have your data and labels ready
X = ...  # Your data
y = ...  # Your labels

# Create a Naive Bayes classifier
nb_classifier = MultinomialNB()

# Perform cross-validation with 5 folds
scores = cross_val_score(nb_classifier, X, y, cv=5)

# Print the accuracy scores for each fold
for fold, score in enumerate(scores):
    print(f"Accuracy for fold {fold+1}: {score}")

# Calculate and print the mean accuracy across all folds
mean_accuracy = scores.mean()
print(f"Mean accuracy: {mean_accuracy}")from sklearn.model_selection import train_test_split
from sklearn.naive_bayes import MultinomialNB
from sklearn.metrics import accuracy_score

# Split the dataset into training set and test set
X_train, X_test, y_train, y_test = train_test_split(X, y, test_size=0.2, random_state=42)

# Train the Naive Bayes model
model = MultinomialNB()
model.fit(X_train, y_train)

# Use the trained model to predict the class labels for the test set
y_pred = model.predict(X_test)

# Calculate the accuracy of the model
accuracy = accuracy_score(y_test, y_pred)
print("Accuracy:", accuracy)